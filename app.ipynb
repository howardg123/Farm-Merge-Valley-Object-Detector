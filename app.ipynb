{
 "cells": [
  {
   "cell_type": "markdown",
   "metadata": {},
   "source": [
    "### Install libraries"
   ]
  },
  {
   "cell_type": "code",
   "execution_count": 1,
   "metadata": {},
   "outputs": [
    {
     "name": "stdout",
     "output_type": "stream",
     "text": [
      "Looking in indexes: https://pypi.org/simple, https://pypi.ngc.nvidia.com\n",
      "Requirement already satisfied: ultralytics in c:\\users\\howar\\appdata\\local\\programs\\python\\python310\\lib\\site-packages (from -r requirements.txt (line 1)) (8.3.12)\n",
      "Requirement already satisfied: roboflow in c:\\users\\howar\\appdata\\local\\programs\\python\\python310\\lib\\site-packages (from -r requirements.txt (line 2)) (1.1.47)\n",
      "Requirement already satisfied: opencv-python in c:\\users\\howar\\appdata\\local\\programs\\python\\python310\\lib\\site-packages (from -r requirements.txt (line 3)) (4.10.0.84)\n",
      "Requirement already satisfied: mss in c:\\users\\howar\\appdata\\local\\programs\\python\\python310\\lib\\site-packages (from -r requirements.txt (line 4)) (9.0.2)\n",
      "Requirement already satisfied: numpy in c:\\users\\howar\\appdata\\local\\programs\\python\\python310\\lib\\site-packages (from -r requirements.txt (line 5)) (1.26.3)\n",
      "Requirement already satisfied: pillow>=7.1.2 in c:\\users\\howar\\appdata\\local\\programs\\python\\python310\\lib\\site-packages (from ultralytics->-r requirements.txt (line 1)) (10.2.0)\n",
      "Requirement already satisfied: torch>=1.8.0 in c:\\users\\howar\\appdata\\local\\programs\\python\\python310\\lib\\site-packages (from ultralytics->-r requirements.txt (line 1)) (2.4.1)\n",
      "Requirement already satisfied: py-cpuinfo in c:\\users\\howar\\appdata\\local\\programs\\python\\python310\\lib\\site-packages (from ultralytics->-r requirements.txt (line 1)) (9.0.0)\n",
      "Requirement already satisfied: requests>=2.23.0 in c:\\users\\howar\\appdata\\local\\programs\\python\\python310\\lib\\site-packages (from ultralytics->-r requirements.txt (line 1)) (2.31.0)\n",
      "Requirement already satisfied: pyyaml>=5.3.1 in c:\\users\\howar\\appdata\\local\\programs\\python\\python310\\lib\\site-packages (from ultralytics->-r requirements.txt (line 1)) (6.0.1)\n",
      "Requirement already satisfied: matplotlib>=3.3.0 in c:\\users\\howar\\appdata\\local\\programs\\python\\python310\\lib\\site-packages (from ultralytics->-r requirements.txt (line 1)) (3.8.2)\n",
      "Requirement already satisfied: scipy>=1.4.1 in c:\\users\\howar\\appdata\\local\\programs\\python\\python310\\lib\\site-packages (from ultralytics->-r requirements.txt (line 1)) (1.12.0)\n",
      "Requirement already satisfied: torchvision>=0.9.0 in c:\\users\\howar\\appdata\\local\\programs\\python\\python310\\lib\\site-packages (from ultralytics->-r requirements.txt (line 1)) (0.19.1)\n",
      "Requirement already satisfied: seaborn>=0.11.0 in c:\\users\\howar\\appdata\\local\\programs\\python\\python310\\lib\\site-packages (from ultralytics->-r requirements.txt (line 1)) (0.13.1)\n",
      "Requirement already satisfied: psutil in c:\\users\\howar\\appdata\\local\\programs\\python\\python310\\lib\\site-packages (from ultralytics->-r requirements.txt (line 1)) (5.9.8)\n",
      "Requirement already satisfied: pandas>=1.1.4 in c:\\users\\howar\\appdata\\local\\programs\\python\\python310\\lib\\site-packages (from ultralytics->-r requirements.txt (line 1)) (2.2.0)\n",
      "Requirement already satisfied: tqdm>=4.64.0 in c:\\users\\howar\\appdata\\local\\programs\\python\\python310\\lib\\site-packages (from ultralytics->-r requirements.txt (line 1)) (4.66.5)\n",
      "Requirement already satisfied: ultralytics-thop>=2.0.0 in c:\\users\\howar\\appdata\\local\\programs\\python\\python310\\lib\\site-packages (from ultralytics->-r requirements.txt (line 1)) (2.0.9)\n",
      "Requirement already satisfied: filetype in c:\\users\\howar\\appdata\\local\\programs\\python\\python310\\lib\\site-packages (from roboflow->-r requirements.txt (line 2)) (1.2.0)\n",
      "Requirement already satisfied: kiwisolver>=1.3.1 in c:\\users\\howar\\appdata\\local\\programs\\python\\python310\\lib\\site-packages (from roboflow->-r requirements.txt (line 2)) (1.4.5)\n",
      "Requirement already satisfied: python-dotenv in c:\\users\\howar\\appdata\\local\\programs\\python\\python310\\lib\\site-packages (from roboflow->-r requirements.txt (line 2)) (1.0.1)\n",
      "Requirement already satisfied: certifi in c:\\users\\howar\\appdata\\local\\programs\\python\\python310\\lib\\site-packages (from roboflow->-r requirements.txt (line 2)) (2023.11.17)\n",
      "Requirement already satisfied: six in c:\\users\\howar\\appdata\\local\\programs\\python\\python310\\lib\\site-packages (from roboflow->-r requirements.txt (line 2)) (1.16.0)\n",
      "Requirement already satisfied: opencv-python-headless==4.10.0.84 in c:\\users\\howar\\appdata\\local\\programs\\python\\python310\\lib\\site-packages (from roboflow->-r requirements.txt (line 2)) (4.10.0.84)\n",
      "Requirement already satisfied: urllib3>=1.26.6 in c:\\users\\howar\\appdata\\local\\programs\\python\\python310\\lib\\site-packages (from roboflow->-r requirements.txt (line 2)) (2.1.0)\n",
      "Requirement already satisfied: requests-toolbelt in c:\\users\\howar\\appdata\\local\\programs\\python\\python310\\lib\\site-packages (from roboflow->-r requirements.txt (line 2)) (1.0.0)\n",
      "Requirement already satisfied: python-dateutil in c:\\users\\howar\\appdata\\local\\programs\\python\\python310\\lib\\site-packages (from roboflow->-r requirements.txt (line 2)) (2.8.2)\n",
      "Requirement already satisfied: cycler in c:\\users\\howar\\appdata\\local\\programs\\python\\python310\\lib\\site-packages (from roboflow->-r requirements.txt (line 2)) (0.12.1)\n",
      "Requirement already satisfied: idna==3.7 in c:\\users\\howar\\appdata\\local\\programs\\python\\python310\\lib\\site-packages (from roboflow->-r requirements.txt (line 2)) (3.7)\n",
      "Requirement already satisfied: contourpy>=1.0.1 in c:\\users\\howar\\appdata\\local\\programs\\python\\python310\\lib\\site-packages (from matplotlib>=3.3.0->ultralytics->-r requirements.txt (line 1)) (1.2.0)\n",
      "Requirement already satisfied: pyparsing>=2.3.1 in c:\\users\\howar\\appdata\\local\\programs\\python\\python310\\lib\\site-packages (from matplotlib>=3.3.0->ultralytics->-r requirements.txt (line 1)) (3.1.1)\n",
      "Requirement already satisfied: packaging>=20.0 in c:\\users\\howar\\appdata\\local\\programs\\python\\python310\\lib\\site-packages (from matplotlib>=3.3.0->ultralytics->-r requirements.txt (line 1)) (23.2)\n",
      "Requirement already satisfied: fonttools>=4.22.0 in c:\\users\\howar\\appdata\\local\\programs\\python\\python310\\lib\\site-packages (from matplotlib>=3.3.0->ultralytics->-r requirements.txt (line 1)) (4.47.2)\n",
      "Requirement already satisfied: tzdata>=2022.7 in c:\\users\\howar\\appdata\\local\\programs\\python\\python310\\lib\\site-packages (from pandas>=1.1.4->ultralytics->-r requirements.txt (line 1)) (2023.4)\n",
      "Requirement already satisfied: pytz>=2020.1 in c:\\users\\howar\\appdata\\local\\programs\\python\\python310\\lib\\site-packages (from pandas>=1.1.4->ultralytics->-r requirements.txt (line 1)) (2023.3.post1)\n",
      "Requirement already satisfied: charset-normalizer<4,>=2 in c:\\users\\howar\\appdata\\local\\programs\\python\\python310\\lib\\site-packages (from requests>=2.23.0->ultralytics->-r requirements.txt (line 1)) (3.3.2)\n",
      "Requirement already satisfied: jinja2 in c:\\users\\howar\\appdata\\local\\programs\\python\\python310\\lib\\site-packages (from torch>=1.8.0->ultralytics->-r requirements.txt (line 1)) (3.1.3)\n",
      "Requirement already satisfied: networkx in c:\\users\\howar\\appdata\\local\\programs\\python\\python310\\lib\\site-packages (from torch>=1.8.0->ultralytics->-r requirements.txt (line 1)) (3.4.1)\n",
      "Requirement already satisfied: sympy in c:\\users\\howar\\appdata\\local\\programs\\python\\python310\\lib\\site-packages (from torch>=1.8.0->ultralytics->-r requirements.txt (line 1)) (1.13.3)\n",
      "Requirement already satisfied: fsspec in c:\\users\\howar\\appdata\\local\\programs\\python\\python310\\lib\\site-packages (from torch>=1.8.0->ultralytics->-r requirements.txt (line 1)) (2024.9.0)\n",
      "Requirement already satisfied: filelock in c:\\users\\howar\\appdata\\local\\programs\\python\\python310\\lib\\site-packages (from torch>=1.8.0->ultralytics->-r requirements.txt (line 1)) (3.16.1)\n",
      "Requirement already satisfied: typing-extensions>=4.8.0 in c:\\users\\howar\\appdata\\local\\programs\\python\\python310\\lib\\site-packages (from torch>=1.8.0->ultralytics->-r requirements.txt (line 1)) (4.9.0)\n",
      "Requirement already satisfied: colorama in c:\\users\\howar\\appdata\\local\\programs\\python\\python310\\lib\\site-packages (from tqdm>=4.64.0->ultralytics->-r requirements.txt (line 1)) (0.4.6)\n",
      "Requirement already satisfied: MarkupSafe>=2.0 in c:\\users\\howar\\appdata\\local\\programs\\python\\python310\\lib\\site-packages (from jinja2->torch>=1.8.0->ultralytics->-r requirements.txt (line 1)) (2.1.4)\n",
      "Requirement already satisfied: mpmath<1.4,>=1.1.0 in c:\\users\\howar\\appdata\\local\\programs\\python\\python310\\lib\\site-packages (from sympy->torch>=1.8.0->ultralytics->-r requirements.txt (line 1)) (1.3.0)\n"
     ]
    },
    {
     "name": "stderr",
     "output_type": "stream",
     "text": [
      "\n",
      "[notice] A new release of pip is available: 23.0.1 -> 24.2\n",
      "[notice] To update, run: python.exe -m pip install --upgrade pip\n"
     ]
    }
   ],
   "source": [
    "\n",
    "%pip install -r requirements.txt"
   ]
  },
  {
   "cell_type": "markdown",
   "metadata": {},
   "source": [
    "### Import libraries"
   ]
  },
  {
   "cell_type": "code",
   "execution_count": 1,
   "metadata": {},
   "outputs": [],
   "source": [
    "from pynput import keyboard, mouse\n",
    "from ultralytics import YOLO\n",
    "\n",
    "import cv2\n",
    "import mss\n",
    "import numpy as np\n",
    "import random"
   ]
  },
  {
   "cell_type": "markdown",
   "metadata": {},
   "source": [
    "#### Choose model"
   ]
  },
  {
   "cell_type": "code",
   "execution_count": 2,
   "metadata": {},
   "outputs": [],
   "source": [
    "model = YOLO(\"F://FarmMergeValleyDetector//models//best_yolo11x_17_10_2024.pt\")"
   ]
  },
  {
   "cell_type": "markdown",
   "metadata": {},
   "source": [
    "### Util functions"
   ]
  },
  {
   "cell_type": "markdown",
   "metadata": {},
   "source": [
    "##### Constant variables"
   ]
  },
  {
   "cell_type": "code",
   "execution_count": 3,
   "metadata": {},
   "outputs": [],
   "source": [
    "COLOR = (255, 0, 0)\n",
    "CONFIDENCE_LEVEL = 0.5\n",
    "OUTPUT_HEIGHT = 720\n",
    "OUTPUT_WIDTH = 1280\n",
    "ZOOM_FACTOR = 2"
   ]
  },
  {
   "cell_type": "markdown",
   "metadata": {},
   "source": [
    "##### Capture screen"
   ]
  },
  {
   "cell_type": "code",
   "execution_count": 4,
   "metadata": {},
   "outputs": [],
   "source": [
    "def capture_screen(sct):\n",
    "    screenshot = sct.grab(sct.monitors[1])\n",
    "    frame = np.array(screenshot)\n",
    "    frame = cv2.cvtColor(frame, cv2.COLOR_BGRA2BGR)  # Convert from BGRA to BGR\n",
    "    resized_frame = cv2.resize(frame, (OUTPUT_WIDTH, OUTPUT_HEIGHT))\n",
    "    return resized_frame"
   ]
  },
  {
   "cell_type": "markdown",
   "metadata": {},
   "source": [
    "##### Count classes in a frame"
   ]
  },
  {
   "cell_type": "code",
   "execution_count": 5,
   "metadata": {},
   "outputs": [],
   "source": [
    "def count_classes_in_frame(results):\n",
    "    current_frame_counter = {}\n",
    "    if results is not None:\n",
    "        for result in results:\n",
    "            classes_names = result.names\n",
    "            for box in result.boxes:\n",
    "                if box.conf[0] > CONFIDENCE_LEVEL:\n",
    "                    cls = int(box.cls[0])\n",
    "                    class_name = classes_names[cls]\n",
    "                    current_frame_counter[class_name] = current_frame_counter.get(class_name, 0) + 1\n",
    "    return current_frame_counter"
   ]
  },
  {
   "cell_type": "markdown",
   "metadata": {},
   "source": [
    "##### Display random class from predicted classes"
   ]
  },
  {
   "cell_type": "code",
   "execution_count": 6,
   "metadata": {},
   "outputs": [],
   "source": [
    "def select_displayed_class(class_counter, displayed_class):\n",
    "    if displayed_class and class_counter.get(displayed_class, 0) < 5:\n",
    "        displayed_class = None\n",
    "    if displayed_class is None:\n",
    "        eligible_classes = [class_name for class_name, count in class_counter.items() if count >= 5]\n",
    "        if eligible_classes:\n",
    "            displayed_class = random.choice(eligible_classes)\n",
    "            print(f\"Randomly switched to class: {displayed_class}\")\n",
    "    return displayed_class"
   ]
  },
  {
   "cell_type": "markdown",
   "metadata": {},
   "source": [
    "##### Draw bounding box"
   ]
  },
  {
   "cell_type": "code",
   "execution_count": 7,
   "metadata": {},
   "outputs": [],
   "source": [
    "def draw_bounding_boxes(frame, results, displayed_class, x1, y1):\n",
    "    if results is not None and displayed_class is not None:\n",
    "        for result in results:\n",
    "            classes_names = result.names\n",
    "            for box in result.boxes:\n",
    "                if box.conf[0] > CONFIDENCE_LEVEL:\n",
    "                    x1, y1, x2, y2 = map(int, box.xyxy[0])\n",
    "                    cls = int(box.cls[0])\n",
    "                    class_name = classes_names[cls]\n",
    "                    if displayed_class == class_name:\n",
    "                        cv2.rectangle(frame, (x1, y1), (x2, y2), COLOR, 2)"
   ]
  },
  {
   "cell_type": "markdown",
   "metadata": {},
   "source": [
    "##### Enhance image"
   ]
  },
  {
   "cell_type": "code",
   "execution_count": 19,
   "metadata": {},
   "outputs": [],
   "source": [
    "def enhance_image(image, sigma=1.0, alpha=1.5):\n",
    "    blurred = cv2.GaussianBlur(image, (0, 0), sigma)\n",
    "    sharpened = cv2.addWeighted(image, 1 + alpha, blurred, -alpha, 0)\n",
    "    return sharpened"
   ]
  },
  {
   "cell_type": "markdown",
   "metadata": {},
   "source": [
    "##### Zoom screen"
   ]
  },
  {
   "cell_type": "code",
   "execution_count": 9,
   "metadata": {},
   "outputs": [],
   "source": [
    "def zoom_image(image, quadrant):\n",
    "    height, width = image.shape[:2]\n",
    "    center_x, center_y = int(width / 2), int(height / 2)\n",
    "\n",
    "    new_width, new_height = int(width / ZOOM_FACTOR), int(height / ZOOM_FACTOR)\n",
    "\n",
    "    if quadrant == 1:  # Top-left\n",
    "        x1, y1 = 0, 0\n",
    "        x2, y2 = new_width, new_height\n",
    "    elif quadrant == 2:  # Top-right\n",
    "        x1, y1 = center_x, 0\n",
    "        x2, y2 = center_x + new_width, new_height\n",
    "    elif quadrant == 3:  # Bottom-left\n",
    "        x1, y1 = 0, center_y\n",
    "        x2, y2 = new_width, center_y + new_height\n",
    "    elif quadrant == 4:  # Bottom-right\n",
    "        x1, y1 = center_x, center_y\n",
    "        x2, y2 = center_x + new_width, center_y + new_height\n",
    "    else:\n",
    "        raise ValueError(\"Quadrant must be between 1 and 4.\")\n",
    "\n",
    "    x1 = max(x1, 0)\n",
    "    y1 = max(y1, 0)\n",
    "    x2 = min(x2, width)\n",
    "    y2 = min(y2, height)\n",
    "\n",
    "    cropped_image = image[y1:y2, x1:x2]\n",
    "    zoomed_image = cv2.resize(cropped_image, (width, height))\n",
    "\n",
    "    x_scale = width / (x2 - x1)\n",
    "    y_scale = height / (y2 - y1)\n",
    "\n",
    "    return zoomed_image, x1, y1, x_scale, y_scale\n"
   ]
  },
  {
   "cell_type": "markdown",
   "metadata": {},
   "source": [
    "##### On press triggers the prediction"
   ]
  },
  {
   "cell_type": "code",
   "execution_count": 10,
   "metadata": {},
   "outputs": [],
   "source": [
    "def on_press(key):\n",
    "    global trigger_inference\n",
    "    try:\n",
    "        if key.char == 'p':\n",
    "            trigger_inference = True\n",
    "    except AttributeError:\n",
    "        pass"
   ]
  },
  {
   "cell_type": "code",
   "execution_count": 11,
   "metadata": {},
   "outputs": [],
   "source": [
    "def on_click(x, y, button, pressed):\n",
    "    global trigger_inference\n",
    "    if pressed and button == mouse.Button.right:\n",
    "        trigger_inference = True"
   ]
  },
  {
   "cell_type": "markdown",
   "metadata": {},
   "source": [
    "### Live detection of Farm Merge Valley objects."
   ]
  },
  {
   "cell_type": "code",
   "execution_count": 24,
   "metadata": {},
   "outputs": [
    {
     "name": "stdout",
     "output_type": "stream",
     "text": [
      "\n",
      "0: 384x640 6 carrot_1s, 3 carrot_2s, 1 carrot_3, 1 chicken_1, 2 chicken_2s, 3 corn_1s, 4 corn_2s, 1 corn_3, 3 cow_2s, 1 cow_3, 2 goat_1s, 2 goat_2s, 4 goat_3s, 5 pig_1s, 3 pig_2s, 3 pig_3s, 4 sheep_1s, 2 sheep_2s, 4 sheep_3s, 4 soybeans_1s, 2 soybeans_3s, 7 sugarcane_1s, 3 sugarcane_2s, 4 sugarcane_3s, 9 sunflower_1s, 4 sunflower_2s, 2 sunflower_3s, 3 wheat_1s, 3 wheat_2s, 1 wheat_3, 601.7ms\n",
      "Speed: 6.4ms preprocess, 601.7ms inference, 3.1ms postprocess per image at shape (1, 3, 384, 640)\n",
      "Randomly switched to class: sugarcane_1\n",
      "\n",
      "0: 384x640 6 carrot_1s, 3 carrot_2s, 1 carrot_3, 1 chicken_1, 2 chicken_2s, 3 corn_1s, 4 corn_2s, 1 corn_3, 3 cow_2s, 1 cow_3, 2 goat_1s, 2 goat_2s, 4 goat_3s, 5 pig_1s, 3 pig_2s, 3 pig_3s, 5 sheep_1s, 3 sheep_2s, 4 sheep_3s, 3 soybeans_1s, 2 soybeans_3s, 2 sugarcane_1s, 5 sugarcane_2s, 4 sugarcane_3s, 9 sunflower_1s, 4 sunflower_2s, 2 sunflower_3s, 3 wheat_1s, 3 wheat_2s, 1 wheat_3, 504.7ms\n",
      "Speed: 1.5ms preprocess, 504.7ms inference, 1.0ms postprocess per image at shape (1, 3, 384, 640)\n",
      "Randomly switched to class: sunflower_1\n",
      "\n",
      "0: 384x640 4 carrot_1s, 3 carrot_2s, 1 carrot_3, 1 chicken_1, 2 chicken_2s, 3 corn_1s, 4 corn_2s, 1 corn_3, 3 cow_2s, 1 cow_3, 2 goat_1s, 2 goat_2s, 4 goat_3s, 5 pig_1s, 3 pig_2s, 3 pig_3s, 5 sheep_1s, 2 sheep_2s, 4 sheep_3s, 4 soybeans_1s, 2 soybeans_3s, 2 sugarcane_1s, 5 sugarcane_2s, 4 sugarcane_3s, 3 sunflower_1s, 6 sunflower_2s, 2 sunflower_3s, 3 wheat_1s, 3 wheat_2s, 1 wheat_3, 508.2ms\n",
      "Speed: 1.5ms preprocess, 508.2ms inference, 1.5ms postprocess per image at shape (1, 3, 384, 640)\n",
      "Randomly switched to class: pig_1\n",
      "\n",
      "0: 384x640 6 carrot_1s, 3 carrot_2s, 1 carrot_3, 1 chicken_1, 2 chicken_2s, 3 corn_1s, 4 corn_2s, 1 corn_3, 3 cow_2s, 1 cow_3, 2 goat_1s, 2 goat_2s, 3 goat_3s, 5 pig_2s, 3 pig_3s, 5 sheep_1s, 3 sheep_2s, 4 sheep_3s, 3 soybeans_1s, 2 soybeans_3s, 2 sugarcane_1s, 5 sugarcane_2s, 4 sugarcane_3s, 3 sunflower_1s, 6 sunflower_2s, 2 sunflower_3s, 3 wheat_1s, 3 wheat_2s, 1 wheat_3, 527.7ms\n",
      "Speed: 1.0ms preprocess, 527.7ms inference, 1.0ms postprocess per image at shape (1, 3, 384, 640)\n",
      "Randomly switched to class: carrot_1\n",
      "\n",
      "0: 384x640 6 carrot_1s, 3 carrot_2s, 1 carrot_3, 1 chicken_1, 2 chicken_2s, 3 corn_1s, 4 corn_2s, 1 corn_3, 3 cow_2s, 1 cow_3, 2 goat_1s, 2 goat_2s, 3 goat_3s, 5 pig_2s, 3 pig_3s, 5 sheep_1s, 3 sheep_2s, 4 sheep_3s, 3 soybeans_1s, 2 soybeans_3s, 2 sugarcane_1s, 5 sugarcane_2s, 4 sugarcane_3s, 3 sunflower_1s, 6 sunflower_2s, 2 sunflower_3s, 3 wheat_1s, 3 wheat_2s, 1 wheat_3, 493.2ms\n",
      "Speed: 1.0ms preprocess, 493.2ms inference, 1.5ms postprocess per image at shape (1, 3, 384, 640)\n",
      "\n",
      "0: 384x640 1 carrot_1, 5 carrot_2s, 1 carrot_3, 1 chicken_1, 2 chicken_2s, 3 corn_1s, 4 corn_2s, 1 corn_3, 3 cow_2s, 1 cow_3, 2 goat_1s, 2 goat_2s, 3 goat_3s, 5 pig_2s, 3 pig_3s, 6 sheep_1s, 3 sheep_2s, 4 sheep_3s, 5 soybeans_1s, 2 soybeans_3s, 2 sugarcane_1s, 5 sugarcane_2s, 4 sugarcane_3s, 3 sunflower_1s, 6 sunflower_2s, 2 sunflower_3s, 3 wheat_1s, 3 wheat_2s, 1 wheat_3, 500.0ms\n",
      "Speed: 0.5ms preprocess, 500.0ms inference, 1.5ms postprocess per image at shape (1, 3, 384, 640)\n",
      "Randomly switched to class: pig_2\n",
      "\n",
      "0: 384x640 1 carrot_1, 5 carrot_2s, 1 carrot_3, 1 chicken_1, 2 chicken_2s, 3 corn_1s, 4 corn_2s, 1 corn_3, 3 cow_2s, 1 cow_3, 1 goat_1, 2 goat_2s, 3 goat_3s, 5 pig_3s, 6 sheep_1s, 3 sheep_2s, 4 sheep_3s, 4 soybeans_1s, 2 soybeans_3s, 2 sugarcane_1s, 5 sugarcane_2s, 3 sugarcane_3s, 3 sunflower_1s, 6 sunflower_2s, 2 sunflower_3s, 3 wheat_1s, 3 wheat_2s, 1 wheat_3, 501.6ms\n",
      "Speed: 1.0ms preprocess, 501.6ms inference, 1.0ms postprocess per image at shape (1, 3, 384, 640)\n",
      "Randomly switched to class: pig_3\n",
      "\n",
      "0: 384x640 1 carrot_1, 5 carrot_2s, 1 carrot_3, 1 chicken_1, 2 chicken_2s, 3 corn_1s, 3 corn_2s, 1 corn_3, 3 cow_2s, 1 cow_3, 1 goat_1, 3 goat_2s, 3 goat_3s, 4 sheep_1s, 3 sheep_2s, 3 sheep_3s, 3 soybeans_1s, 2 soybeans_3s, 2 sugarcane_1s, 5 sugarcane_2s, 4 sugarcane_3s, 3 sunflower_1s, 5 sunflower_2s, 2 sunflower_3s, 3 wheat_1s, 3 wheat_2s, 1 wheat_3, 506.2ms\n",
      "Speed: 3.0ms preprocess, 506.2ms inference, 1.0ms postprocess per image at shape (1, 3, 384, 640)\n",
      "\n",
      "0: 384x640 1 carrot_1, 5 carrot_2s, 1 carrot_3, 1 chicken_1, 2 chicken_2s, 3 corn_1s, 3 corn_2s, 1 corn_3, 3 cow_2s, 1 cow_3, 1 goat_1, 2 goat_2s, 4 goat_3s, 6 sheep_1s, 3 sheep_2s, 4 sheep_3s, 4 soybeans_1s, 2 soybeans_3s, 2 sugarcane_1s, 5 sugarcane_2s, 4 sugarcane_3s, 3 sunflower_1s, 6 sunflower_2s, 2 sunflower_3s, 3 wheat_1s, 3 wheat_2s, 1 wheat_3, 510.9ms\n",
      "Speed: 1.6ms preprocess, 510.9ms inference, 0.5ms postprocess per image at shape (1, 3, 384, 640)\n",
      "Randomly switched to class: carrot_2\n",
      "\n",
      "0: 384x640 1 carrot_1, 3 carrot_3s, 1 chicken_1, 2 chicken_2s, 5 corn_1s, 4 corn_2s, 2 corn_3s, 3 cow_2s, 1 cow_3, 1 goat_1, 2 goat_2s, 4 goat_3s, 7 sheep_1s, 3 sheep_2s, 4 sheep_3s, 3 soybeans_1s, 2 soybeans_3s, 2 sugarcane_1s, 5 sugarcane_2s, 4 sugarcane_3s, 3 sunflower_1s, 6 sunflower_2s, 2 sunflower_3s, 3 wheat_1s, 3 wheat_2s, 1 wheat_3, 1600.6ms\n",
      "Speed: 1.5ms preprocess, 1600.6ms inference, 2.0ms postprocess per image at shape (1, 3, 384, 640)\n",
      "Randomly switched to class: sheep_1\n",
      "\n",
      "0: 384x640 1 carrot_1, 3 carrot_3s, 1 chicken_1, 2 chicken_2s, 4 corn_1s, 4 corn_2s, 2 corn_3s, 3 cow_2s, 1 cow_3, 1 goat_1, 2 goat_2s, 4 goat_3s, 6 sheep_1s, 3 sheep_2s, 4 sheep_3s, 3 soybeans_1s, 2 soybeans_3s, 2 sugarcane_1s, 5 sugarcane_2s, 4 sugarcane_3s, 3 sunflower_1s, 6 sunflower_2s, 2 sunflower_3s, 3 wheat_1s, 3 wheat_2s, 1 wheat_3, 1665.2ms\n",
      "Speed: 2.5ms preprocess, 1665.2ms inference, 1.5ms postprocess per image at shape (1, 3, 384, 640)\n",
      "\n",
      "0: 384x640 1 carrot_1, 3 carrot_3s, 1 chicken_1, 2 chicken_2s, 5 corn_1s, 4 corn_2s, 2 corn_3s, 2 cow_2s, 1 cow_3, 1 goat_1, 2 goat_2s, 4 goat_3s, 1 pig_2, 1 sheep_2, 4 soybeans_1s, 2 soybeans_3s, 2 sugarcane_1s, 6 sugarcane_2s, 4 sugarcane_3s, 3 sunflower_1s, 5 sunflower_2s, 2 sunflower_3s, 4 wheat_1s, 3 wheat_2s, 1 wheat_3, 521.2ms\n",
      "Speed: 2.0ms preprocess, 521.2ms inference, 1.5ms postprocess per image at shape (1, 3, 384, 640)\n",
      "Randomly switched to class: sugarcane_2\n",
      "\n",
      "0: 384x640 1 carrot_1, 3 carrot_3s, 1 chicken_1, 2 chicken_2s, 5 corn_1s, 4 corn_2s, 2 corn_3s, 2 cow_2s, 1 cow_3, 1 goat_1, 2 goat_2s, 4 goat_3s, 1 pig_2, 4 soybeans_1s, 2 soybeans_3s, 2 sugarcane_1s, 1 sugarcane_2, 5 sugarcane_3s, 3 sunflower_1s, 5 sunflower_2s, 2 sunflower_3s, 4 wheat_1s, 3 wheat_2s, 1 wheat_3, 586.0ms\n",
      "Speed: 1.0ms preprocess, 586.0ms inference, 0.0ms postprocess per image at shape (1, 3, 384, 640)\n",
      "\n",
      "0: 384x640 1 carrot_1, 3 carrot_3s, 1 chicken_1, 2 chicken_2s, 5 corn_1s, 4 corn_2s, 2 corn_3s, 2 cow_2s, 1 cow_3, 1 goat_1, 2 goat_2s, 4 goat_3s, 1 pig_2, 4 soybeans_1s, 2 soybeans_3s, 2 sugarcane_1s, 1 sugarcane_2, 8 sugarcane_3s, 3 sunflower_1s, 5 sunflower_2s, 2 sunflower_3s, 4 wheat_1s, 3 wheat_2s, 1 wheat_3, 533.9ms\n",
      "Speed: 50.7ms preprocess, 533.9ms inference, 0.5ms postprocess per image at shape (1, 3, 384, 640)\n",
      "Randomly switched to class: sugarcane_3\n",
      "\n",
      "0: 384x640 3 carrot_3s, 1 chicken_1, 2 chicken_2s, 3 corn_1s, 2 corn_2s, 2 corn_3s, 2 cow_2s, 1 cow_3, 1 goat_1, 2 goat_2s, 4 goat_3s, 4 soybeans_1s, 2 soybeans_3s, 2 sugarcane_1s, 1 sugarcane_2, 1 sugarcane_3, 3 sunflower_1s, 4 sunflower_2s, 2 sunflower_3s, 4 wheat_1s, 2 wheat_2s, 1 wheat_3, 483.2ms\n",
      "Speed: 1.0ms preprocess, 483.2ms inference, 1.0ms postprocess per image at shape (1, 3, 384, 640)\n",
      "\n",
      "0: 384x640 1 carrot_1, 2 carrot_3s, 1 chicken_1, 2 chicken_2s, 4 corn_1s, 4 corn_2s, 2 corn_3s, 2 cow_2s, 1 cow_3, 1 goat_1, 2 goat_2s, 4 goat_3s, 1 pig_2, 1 sheep_1, 1 sheep_2, 4 soybeans_1s, 2 soybeans_3s, 2 sugarcane_1s, 1 sugarcane_3, 3 sunflower_1s, 5 sunflower_2s, 2 sunflower_3s, 6 wheat_1s, 3 wheat_2s, 1 wheat_3, 521.8ms\n",
      "Speed: 1.0ms preprocess, 521.8ms inference, 1.0ms postprocess per image at shape (1, 3, 384, 640)\n",
      "Randomly switched to class: sunflower_2\n",
      "\n",
      "0: 384x640 1 carrot_1, 2 carrot_3s, 1 chicken_1, 2 chicken_2s, 4 corn_1s, 4 corn_2s, 2 corn_3s, 2 cow_2s, 1 cow_3, 1 goat_1, 2 goat_2s, 4 goat_3s, 1 pig_2, 1 sheep_1, 1 sheep_2, 4 soybeans_1s, 2 soybeans_3s, 2 sugarcane_1s, 1 sugarcane_3, 3 sunflower_1s, 1 sunflower_2, 4 sunflower_3s, 6 wheat_1s, 3 wheat_2s, 1 wheat_3, 501.6ms\n",
      "Speed: 2.0ms preprocess, 501.6ms inference, 1.0ms postprocess per image at shape (1, 3, 384, 640)\n",
      "\n",
      "0: 384x640 1 carrot_1, 2 carrot_3s, 1 chicken_1, 2 chicken_2s, 5 corn_1s, 4 corn_2s, 1 corn_3, 2 cow_2s, 1 cow_3, 2 goat_1s, 2 goat_2s, 4 goat_3s, 1 pig_2, 1 sheep_1, 1 sheep_2, 4 soybeans_1s, 2 soybeans_3s, 2 sugarcane_1s, 1 sugarcane_2, 1 sugarcane_3, 3 sunflower_1s, 1 sunflower_2, 4 sunflower_3s, 5 wheat_1s, 3 wheat_2s, 1 wheat_3, 468.9ms\n",
      "Speed: 2.7ms preprocess, 468.9ms inference, 1.0ms postprocess per image at shape (1, 3, 384, 640)\n",
      "\n",
      "0: 384x640 1 carrot_1, 3 carrot_3s, 1 chicken_1, 2 chicken_2s, 4 corn_1s, 4 corn_2s, 2 corn_3s, 3 cow_2s, 1 cow_3, 2 goat_1s, 2 goat_2s, 4 goat_3s, 1 sheep_1, 1 sheep_2, 4 soybeans_1s, 2 soybeans_3s, 2 sugarcane_1s, 1 sugarcane_2, 1 sugarcane_3, 3 sunflower_1s, 1 sunflower_2, 4 sunflower_3s, 7 wheat_1s, 3 wheat_2s, 1 wheat_3, 491.6ms\n",
      "Speed: 2.0ms preprocess, 491.6ms inference, 1.0ms postprocess per image at shape (1, 3, 384, 640)\n",
      "Randomly switched to class: wheat_1\n",
      "\n",
      "0: 384x640 1 carrot_1, 3 carrot_3s, 1 chicken_1, 2 chicken_2s, 4 corn_1s, 4 corn_2s, 2 corn_3s, 3 cow_2s, 1 cow_3, 2 goat_1s, 2 goat_2s, 4 goat_3s, 1 sheep_1, 1 sheep_2, 4 soybeans_1s, 2 soybeans_3s, 2 sugarcane_1s, 1 sugarcane_2, 1 sugarcane_3, 4 sunflower_1s, 1 sunflower_2, 4 sunflower_3s, 1 wheat_1, 5 wheat_2s, 1 wheat_3, 470.1ms\n",
      "Speed: 1.0ms preprocess, 470.1ms inference, 1.0ms postprocess per image at shape (1, 3, 384, 640)\n",
      "\n",
      "0: 384x640 1 carrot_1, 3 carrot_3s, 1 chicken_1, 2 chicken_2s, 3 corn_1s, 4 corn_2s, 2 corn_3s, 3 cow_2s, 1 cow_3, 2 goat_1s, 2 goat_2s, 4 goat_3s, 1 sheep_1, 1 sheep_2, 4 soybeans_1s, 2 soybeans_3s, 2 sugarcane_1s, 1 sugarcane_2, 1 sugarcane_3, 4 sunflower_1s, 1 sunflower_2, 4 sunflower_3s, 1 wheat_1, 5 wheat_2s, 1 wheat_3, 562.1ms\n",
      "Speed: 2.0ms preprocess, 562.1ms inference, 0.0ms postprocess per image at shape (1, 3, 384, 640)\n",
      "\n",
      "0: 384x640 1 carrot_1, 3 carrot_3s, 1 chicken_1, 2 chicken_2s, 4 corn_1s, 5 corn_2s, 2 corn_3s, 2 cow_2s, 1 cow_3, 2 goat_1s, 2 goat_2s, 4 goat_3s, 1 pig_2, 1 sheep_1, 1 sheep_2, 4 soybeans_1s, 2 soybeans_3s, 2 sugarcane_1s, 1 sugarcane_2, 1 sugarcane_3, 3 sunflower_1s, 1 sunflower_2, 4 sunflower_3s, 1 wheat_1, 5 wheat_2s, 1 wheat_3, 503.2ms\n",
      "Speed: 1.0ms preprocess, 503.2ms inference, 0.0ms postprocess per image at shape (1, 3, 384, 640)\n",
      "\n",
      "0: 384x640 1 carrot_1, 3 carrot_3s, 1 chicken_1, 2 chicken_2s, 5 corn_1s, 4 corn_2s, 2 corn_3s, 2 cow_2s, 1 cow_3, 2 goat_1s, 2 goat_2s, 4 goat_3s, 1 pig_2, 1 sheep_1, 2 sheep_2s, 4 soybeans_1s, 2 soybeans_3s, 2 sugarcane_1s, 1 sugarcane_2, 1 sugarcane_3, 3 sunflower_1s, 1 sunflower_2, 4 sunflower_3s, 1 wheat_1, 5 wheat_2s, 1 wheat_3, 519.3ms\n",
      "Speed: 2.0ms preprocess, 519.3ms inference, 1.0ms postprocess per image at shape (1, 3, 384, 640)\n",
      "\n",
      "0: 384x640 1 carrot_1, 2 carrot_3s, 1 chicken_1, 2 chicken_2s, 5 corn_1s, 4 corn_2s, 2 corn_3s, 2 cow_2s, 1 cow_3, 2 goat_1s, 2 goat_2s, 4 goat_3s, 1 pig_2, 1 sheep_1, 1 sheep_2, 4 soybeans_1s, 2 soybeans_3s, 2 sugarcane_1s, 1 sugarcane_3, 3 sunflower_1s, 1 sunflower_2, 4 sunflower_3s, 1 wheat_1, 5 wheat_2s, 1 wheat_3, 459.3ms\n",
      "Speed: 1.0ms preprocess, 459.3ms inference, 1.0ms postprocess per image at shape (1, 3, 384, 640)\n",
      "Randomly switched to class: wheat_2\n",
      "\n",
      "0: 384x640 1 carrot_1, 2 carrot_3s, 1 chicken_1, 2 chicken_2s, 6 corn_1s, 4 corn_2s, 2 corn_3s, 2 cow_2s, 1 cow_3, 2 goat_1s, 2 goat_2s, 4 goat_3s, 1 pig_2, 1 sheep_1, 1 sheep_2, 4 soybeans_1s, 2 soybeans_3s, 2 sugarcane_1s, 1 sugarcane_2, 1 sugarcane_3, 3 sunflower_1s, 1 sunflower_2, 4 sunflower_3s, 1 wheat_1, 5 wheat_2s, 1 wheat_3, 493.4ms\n",
      "Speed: 2.5ms preprocess, 493.4ms inference, 0.5ms postprocess per image at shape (1, 3, 384, 640)\n",
      "\n",
      "0: 384x640 1 carrot_1, 1 carrot_3, 1 chicken_1, 2 chicken_2s, 4 corn_1s, 4 corn_2s, 2 corn_3s, 2 cow_2s, 1 cow_3, 1 goat_1, 2 goat_2s, 3 goat_3s, 1 pig_2, 1 sheep_1, 2 sheep_2s, 4 soybeans_1s, 2 soybeans_3s, 1 sugarcane_1, 1 sugarcane_2, 1 sugarcane_3, 3 sunflower_1s, 1 sunflower_2, 4 sunflower_3s, 1 wheat_1, 5 wheat_2s, 1 wheat_3, 485.4ms\n",
      "Speed: 1.0ms preprocess, 485.4ms inference, 1.0ms postprocess per image at shape (1, 3, 384, 640)\n",
      "\n",
      "0: 384x640 1 carrot_1, 1 carrot_3, 1 chicken_1, 2 chicken_2s, 3 corn_1s, 5 corn_2s, 2 corn_3s, 2 cow_2s, 1 cow_3, 1 goat_1, 2 goat_2s, 3 goat_3s, 1 pig_2, 1 sheep_1, 2 sheep_2s, 4 soybeans_1s, 2 soybeans_3s, 1 sugarcane_1, 1 sugarcane_2, 1 sugarcane_3, 3 sunflower_1s, 1 sunflower_2, 4 sunflower_3s, 1 wheat_1, 3 wheat_3s, 538.9ms\n",
      "Speed: 0.0ms preprocess, 538.9ms inference, 1.4ms postprocess per image at shape (1, 3, 384, 640)\n",
      "\n",
      "0: 384x640 1 carrot_1, 2 carrot_3s, 1 chicken_1, 2 chicken_2s, 3 corn_1s, 4 corn_2s, 2 corn_3s, 2 cow_2s, 1 cow_3, 2 goat_1s, 2 goat_2s, 4 goat_3s, 1 pig_2, 1 sheep_1, 1 sheep_2, 4 soybeans_1s, 2 soybeans_3s, 2 sugarcane_1s, 1 sugarcane_3, 3 sunflower_1s, 1 sunflower_2, 4 sunflower_3s, 1 wheat_1, 3 wheat_3s, 472.3ms\n",
      "Speed: 1.0ms preprocess, 472.3ms inference, 0.0ms postprocess per image at shape (1, 3, 384, 640)\n",
      "\n",
      "0: 384x640 1 carrot_1, 2 carrot_3s, 1 chicken_1, 2 chicken_2s, 3 corn_1s, 4 corn_2s, 2 corn_3s, 2 cow_2s, 1 cow_3, 2 goat_1s, 2 goat_2s, 4 goat_3s, 1 pig_2, 1 sheep_1, 1 sheep_2, 4 soybeans_1s, 2 soybeans_3s, 2 sugarcane_1s, 1 sugarcane_3, 3 sunflower_1s, 1 sunflower_2, 4 sunflower_3s, 1 wheat_1, 3 wheat_3s, 508.8ms\n",
      "Speed: 1.0ms preprocess, 508.8ms inference, 1.0ms postprocess per image at shape (1, 3, 384, 640)\n",
      "\n",
      "0: 384x640 1 carrot_1, 2 carrot_3s, 1 chicken_1, 2 chicken_2s, 4 corn_1s, 4 corn_2s, 2 corn_3s, 2 cow_2s, 1 cow_3, 2 goat_1s, 2 goat_2s, 4 goat_3s, 1 pig_2, 1 sheep_1, 1 sheep_2, 4 soybeans_1s, 2 soybeans_3s, 2 sugarcane_1s, 1 sugarcane_3, 3 sunflower_1s, 1 sunflower_2, 4 sunflower_3s, 1 wheat_1, 3 wheat_3s, 528.9ms\n",
      "Speed: 2.0ms preprocess, 528.9ms inference, 1.0ms postprocess per image at shape (1, 3, 384, 640)\n",
      "\n",
      "0: 384x640 1 carrot_1, 1 carrot_2, 2 carrot_3s, 1 chicken_1, 2 chicken_2s, 3 corn_1s, 4 corn_2s, 2 corn_3s, 2 cow_2s, 1 cow_3, 3 goat_1s, 2 goat_2s, 4 goat_3s, 1 pig_1, 1 pig_2, 3 sheep_1s, 1 sheep_2, 4 soybeans_1s, 2 soybeans_3s, 4 sugarcane_1s, 1 sugarcane_3, 3 sunflower_1s, 1 sunflower_2, 4 sunflower_3s, 1 wheat_1, 3 wheat_3s, 498.5ms\n",
      "Speed: 1.0ms preprocess, 498.5ms inference, 1.5ms postprocess per image at shape (1, 3, 384, 640)\n",
      "\n",
      "0: 384x640 1 carrot_1, 1 carrot_2, 1 carrot_3, 1 chicken_1, 2 chicken_2s, 4 corn_1s, 5 corn_2s, 2 corn_3s, 2 cow_2s, 1 cow_3, 2 goat_1s, 2 goat_2s, 3 goat_3s, 1 pig_1, 1 pig_2, 3 sheep_1s, 2 sheep_2s, 4 soybeans_1s, 2 soybeans_3s, 3 sugarcane_1s, 1 sugarcane_2, 1 sugarcane_3, 3 sunflower_1s, 1 sunflower_2, 4 sunflower_3s, 1 wheat_1, 3 wheat_3s, 471.4ms\n",
      "Speed: 2.0ms preprocess, 471.4ms inference, 1.0ms postprocess per image at shape (1, 3, 384, 640)\n",
      "\n",
      "0: 384x640 1 carrot_1, 1 carrot_2, 2 carrot_3s, 2 chicken_1s, 2 chicken_2s, 4 corn_1s, 4 corn_2s, 2 corn_3s, 2 cow_2s, 1 cow_3, 4 goat_1s, 2 goat_2s, 4 goat_3s, 1 pig_1, 1 pig_2, 3 sheep_1s, 2 sheep_2s, 4 soybeans_1s, 2 soybeans_3s, 4 sugarcane_1s, 1 sugarcane_2, 1 sugarcane_3, 5 sunflower_1s, 1 sunflower_2, 4 sunflower_3s, 1 wheat_1, 3 wheat_3s, 505.8ms\n",
      "Speed: 2.0ms preprocess, 505.8ms inference, 0.0ms postprocess per image at shape (1, 3, 384, 640)\n",
      "Randomly switched to class: sunflower_1\n",
      "\n",
      "0: 384x640 2 carrot_1s, 1 carrot_2, 2 carrot_3s, 2 chicken_1s, 3 chicken_2s, 5 corn_1s, 4 corn_2s, 2 corn_3s, 2 cow_2s, 1 cow_3, 3 goat_1s, 2 goat_2s, 3 goat_3s, 1 pig_1, 1 pig_2, 3 sheep_1s, 2 sheep_2s, 4 soybeans_1s, 2 soybeans_3s, 3 sugarcane_1s, 1 sugarcane_2, 1 sugarcane_3, 4 sunflower_2s, 4 sunflower_3s, 1 wheat_1, 3 wheat_3s, 503.9ms\n",
      "Speed: 2.0ms preprocess, 503.9ms inference, 1.0ms postprocess per image at shape (1, 3, 384, 640)\n",
      "\n",
      "0: 384x640 2 carrot_1s, 1 carrot_2, 1 carrot_3, 2 chicken_1s, 3 chicken_2s, 5 corn_1s, 4 corn_2s, 2 corn_3s, 2 cow_2s, 1 cow_3, 3 goat_1s, 2 goat_2s, 3 goat_3s, 1 pig_1, 1 pig_2, 3 sheep_1s, 2 sheep_2s, 4 soybeans_1s, 2 soybeans_3s, 3 sugarcane_1s, 1 sugarcane_2, 1 sugarcane_3, 4 sunflower_2s, 4 sunflower_3s, 1 wheat_1, 3 wheat_3s, 519.3ms\n",
      "Speed: 1.0ms preprocess, 519.3ms inference, 1.0ms postprocess per image at shape (1, 3, 384, 640)\n",
      "\n",
      "0: 384x640 2 carrot_1s, 1 carrot_2, 1 carrot_3, 2 chicken_1s, 3 chicken_2s, 6 corn_1s, 4 corn_2s, 2 corn_3s, 2 cow_2s, 1 cow_3, 3 goat_1s, 2 goat_2s, 3 goat_3s, 1 pig_1, 1 pig_2, 3 sheep_1s, 2 sheep_2s, 4 soybeans_1s, 2 soybeans_3s, 3 sugarcane_1s, 1 sugarcane_2, 1 sugarcane_3, 4 sunflower_2s, 4 sunflower_3s, 1 wheat_1, 3 wheat_3s, 488.9ms\n",
      "Speed: 1.0ms preprocess, 488.9ms inference, 4.5ms postprocess per image at shape (1, 3, 384, 640)\n",
      "\n",
      "0: 384x640 2 carrot_1s, 1 carrot_2, 2 carrot_3s, 2 chicken_1s, 3 chicken_2s, 5 corn_1s, 5 corn_2s, 1 corn_3, 2 cow_2s, 1 cow_3, 4 goat_1s, 2 goat_2s, 4 goat_3s, 1 pig_1, 1 pig_2, 3 sheep_1s, 2 sheep_2s, 4 soybeans_1s, 2 soybeans_3s, 4 sugarcane_1s, 1 sugarcane_3, 3 sunflower_2s, 4 sunflower_3s, 1 wheat_1, 3 wheat_3s, 480.3ms\n",
      "Speed: 1.0ms preprocess, 480.3ms inference, 1.0ms postprocess per image at shape (1, 3, 384, 640)\n",
      "Randomly switched to class: corn_2\n",
      "\n",
      "0: 384x640 2 carrot_1s, 1 carrot_2, 2 carrot_3s, 2 chicken_1s, 3 chicken_2s, 2 corn_1s, 7 corn_2s, 1 corn_3, 2 cow_2s, 1 cow_3, 4 goat_1s, 2 goat_2s, 4 goat_3s, 1 pig_1, 1 pig_2, 2 sheep_1s, 2 sheep_2s, 4 soybeans_1s, 2 soybeans_3s, 4 sugarcane_1s, 1 sugarcane_3, 3 sunflower_2s, 4 sunflower_3s, 1 wheat_1, 3 wheat_3s, 479.5ms\n",
      "Speed: 3.0ms preprocess, 479.5ms inference, 1.0ms postprocess per image at shape (1, 3, 384, 640)\n",
      "\n",
      "0: 384x640 2 carrot_1s, 1 carrot_2, 2 carrot_3s, 2 chicken_1s, 3 chicken_2s, 2 corn_1s, 2 corn_2s, 3 corn_3s, 2 cow_2s, 1 cow_3, 4 goat_1s, 2 goat_2s, 4 goat_3s, 1 pig_1, 1 pig_2, 3 sheep_1s, 2 sheep_2s, 4 soybeans_1s, 2 soybeans_3s, 4 sugarcane_1s, 1 sugarcane_2, 1 sugarcane_3, 3 sunflower_2s, 4 sunflower_3s, 1 wheat_1, 3 wheat_3s, 509.1ms\n",
      "Speed: 2.0ms preprocess, 509.1ms inference, 1.0ms postprocess per image at shape (1, 3, 384, 640)\n",
      "\n",
      "0: 384x640 2 carrot_1s, 1 carrot_2, 2 carrot_3s, 2 chicken_1s, 3 chicken_2s, 2 corn_1s, 2 corn_2s, 3 corn_3s, 2 cow_2s, 1 cow_3, 4 goat_1s, 2 goat_2s, 4 goat_3s, 1 pig_1, 1 pig_2, 3 sheep_1s, 1 sheep_2, 4 soybeans_1s, 2 soybeans_3s, 4 sugarcane_1s, 1 sugarcane_2, 1 sugarcane_3, 3 sunflower_2s, 4 sunflower_3s, 1 wheat_1, 3 wheat_3s, 517.5ms\n",
      "Speed: 1.5ms preprocess, 517.5ms inference, 1.0ms postprocess per image at shape (1, 3, 384, 640)\n",
      "\n",
      "0: 384x640 2 carrot_1s, 1 carrot_2, 2 carrot_3s, 2 chicken_1s, 3 chicken_2s, 2 corn_1s, 2 corn_2s, 3 corn_3s, 2 cow_2s, 1 cow_3, 4 goat_1s, 2 goat_2s, 4 goat_3s, 1 pig_1, 1 pig_2, 3 sheep_1s, 2 sheep_2s, 4 soybeans_1s, 2 soybeans_3s, 4 sugarcane_1s, 1 sugarcane_2, 1 sugarcane_3, 3 sunflower_2s, 4 sunflower_3s, 1 wheat_1, 3 wheat_3s, 467.8ms\n",
      "Speed: 2.5ms preprocess, 467.8ms inference, 1.1ms postprocess per image at shape (1, 3, 384, 640)\n",
      "\n",
      "0: 384x640 2 carrot_1s, 1 carrot_2, 2 carrot_3s, 2 chicken_1s, 3 chicken_2s, 2 corn_1s, 2 corn_2s, 3 corn_3s, 2 cow_2s, 1 cow_3, 4 goat_1s, 2 goat_2s, 4 goat_3s, 1 pig_1, 1 pig_2, 3 sheep_2s, 4 soybeans_1s, 2 soybeans_3s, 4 sugarcane_1s, 1 sugarcane_3, 3 sunflower_2s, 4 sunflower_3s, 1 wheat_1, 3 wheat_3s, 492.1ms\n",
      "Speed: 0.0ms preprocess, 492.1ms inference, 1.0ms postprocess per image at shape (1, 3, 384, 640)\n",
      "\n",
      "0: 384x640 2 carrot_1s, 1 carrot_2, 2 carrot_3s, 2 chicken_1s, 3 chicken_2s, 2 corn_1s, 2 corn_2s, 3 corn_3s, 2 cow_2s, 1 cow_3, 4 goat_1s, 2 goat_2s, 4 goat_3s, 1 pig_1, 1 pig_2, 3 sheep_2s, 4 soybeans_1s, 2 soybeans_3s, 4 sugarcane_1s, 1 sugarcane_3, 3 sunflower_2s, 4 sunflower_3s, 1 wheat_1, 3 wheat_3s, 457.2ms\n",
      "Speed: 1.0ms preprocess, 457.2ms inference, 0.0ms postprocess per image at shape (1, 3, 384, 640)\n",
      "\n",
      "0: 384x640 2 carrot_1s, 1 carrot_2, 3 carrot_3s, 2 chicken_1s, 2 chicken_2s, 1 corn_1, 2 corn_2s, 3 corn_3s, 2 cow_2s, 1 cow_3, 4 goat_1s, 2 goat_2s, 4 goat_3s, 2 pig_1s, 1 pig_2, 3 sheep_2s, 4 soybeans_1s, 2 soybeans_3s, 4 sugarcane_1s, 1 sugarcane_2, 1 sugarcane_3, 3 sunflower_2s, 4 sunflower_3s, 1 wheat_1, 3 wheat_3s, 484.6ms\n",
      "Speed: 2.0ms preprocess, 484.6ms inference, 1.0ms postprocess per image at shape (1, 3, 384, 640)\n"
     ]
    }
   ],
   "source": [
    "sct = mss.mss()\n",
    "results = None\n",
    "trigger_inference = False\n",
    "\n",
    "keyboard_listener = keyboard.Listener(on_press=on_press)\n",
    "keyboard_listener.start()\n",
    "mouse_listener = mouse.Listener(on_click=on_click)\n",
    "mouse_listener.start()\n",
    "\n",
    "class_counter = {}\n",
    "displayed_class = None\n",
    "x1 = 0\n",
    "y1 = 0\n",
    "x_scale = 0\n",
    "y_scale = 0\n",
    "\n",
    "while True:\n",
    "    resized_frame = capture_screen(sct)\n",
    "\n",
    "    if trigger_inference:\n",
    "        # enhanced_frame = enhance_image(resized_frame)\n",
    "        # cv2.imshow(\"Farm Merge Valley Object Detectors\", enhanced_frame)\n",
    "        results = model(resized_frame)\n",
    "        trigger_inference = False\n",
    "\n",
    "        current_frame_counter = count_classes_in_frame(results)\n",
    "\n",
    "        for class_name, count in current_frame_counter.items():\n",
    "            class_counter[class_name] = class_counter.get(class_name, 0) + count\n",
    "\n",
    "        displayed_class = select_displayed_class(class_counter, displayed_class)\n",
    "\n",
    "        class_counter = {}\n",
    "\n",
    "    draw_bounding_boxes(resized_frame, results, displayed_class, x1, y1)\n",
    "\n",
    "    cv2.imshow(\"Farm Merge Valley Object Detector\", resized_frame)\n",
    "\n",
    "    if cv2.waitKey(1) & 0xFF == ord(\"q\"):\n",
    "        break\n",
    "\n",
    "cv2.destroyAllWindows()"
   ]
  },
  {
   "cell_type": "code",
   "execution_count": null,
   "metadata": {},
   "outputs": [],
   "source": []
  }
 ],
 "metadata": {
  "kernelspec": {
   "display_name": "Python 3",
   "language": "python",
   "name": "python3"
  },
  "language_info": {
   "codemirror_mode": {
    "name": "ipython",
    "version": 3
   },
   "file_extension": ".py",
   "mimetype": "text/x-python",
   "name": "python",
   "nbconvert_exporter": "python",
   "pygments_lexer": "ipython3",
   "version": "3.10.11"
  }
 },
 "nbformat": 4,
 "nbformat_minor": 2
}
